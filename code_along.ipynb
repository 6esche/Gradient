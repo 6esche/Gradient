{
 "cells": [
  {
   "cell_type": "code",
   "execution_count": 89,
   "metadata": {},
   "outputs": [],
   "source": [
    "## Import Libraries\n",
    "# Array + Math\n",
    "import numpy as np\n",
    "# Plotting\n",
    "import matplotlib.pyplot as plt\n",
    "'%matplotlib inline'\n",
    "# Pandas\n",
    "import pandas as pd"
   ]
  },
  {
   "cell_type": "code",
   "execution_count": 90,
   "metadata": {},
   "outputs": [],
   "source": [
    "## Generate Random Data\n",
    "# 100 Uniform Distributed Random Numbers ranging 0 and 2\n",
    "x = 2 * np.random.rand(100,1)\n",
    "# f(x) = 4 + 3*x + noise, noise is uniform distributed between 0 . and 1\n",
    "y = 4 + 3*x +np.random.rand(100,1)"
   ]
  },
  {
   "cell_type": "code",
   "execution_count": 91,
   "metadata": {
    "scrolled": true
   },
   "outputs": [
    {
     "data": {
      "image/png": "[encoded data removed]",
      "text/plain": [
       "<Figure size 432x288 with 1 Axes>"
      ]
     },
     "metadata": {
      "needs_background": "light"
     },
     "output_type": "display_data"
    }
   ],
   "source": [
    "## Plotting x and y without connecting lines\n",
    "plt.plot(x,y,'b.')\n",
    "plt.show()"
   ]
  },
  {
   "cell_type": "code",
   "execution_count": 92,
   "metadata": {},
   "outputs": [],
   "source": [
    "X_b = np.c_[np.ones((100,1)),x]"
   ]
  },
  {
   "cell_type": "code",
   "execution_count": 93,
   "metadata": {},
   "outputs": [
    {
     "data": {
      "text/plain": [
       "array([[4.45113862],\n",
       "       [3.04187147]])"
      ]
     },
     "execution_count": 93,
     "metadata": {},
     "output_type": "execute_result"
    }
   ],
   "source": [
    "# Determine Parameters using Linear Algebra\n",
    "theta_best = np.linalg.inv(((X_b).T).dot(X_b)).dot(X_b.T).dot(y)\n",
    "# Should be close to [4,3]\n",
    "theta_best"
   ]
  },
  {
   "cell_type": "code",
   "execution_count": 94,
   "metadata": {},
   "outputs": [
    {
     "data": {
      "text/plain": [
       "array([[ 4.45113862],\n",
       "       [10.53488155]])"
      ]
     },
     "execution_count": 94,
     "metadata": {},
     "output_type": "execute_result"
    }
   ],
   "source": [
    "x_new = np.array([[0],[2]])\n",
    "X_new_b = np.c_[np.ones((2,1)),x_new]\n",
    "X_new_b\n",
    "y_predict = X_new_b.dot(theta_best)\n",
    "y_predict"
   ]
  },
  {
   "cell_type": "code",
   "execution_count": 95,
   "metadata": {},
   "outputs": [
    {
     "data": {
      "image/png": "[encoded data removed]",
      "text/plain": [
       "<Figure size 432x288 with 1 Axes>"
      ]
     },
     "metadata": {
      "needs_background": "light"
     },
     "output_type": "display_data"
    }
   ],
   "source": [
    "## Plotting x and y without connecting lines\n",
    "plt.plot(x,y,'b.')\n",
    "plt.plot(x_new,y_predict,'-r')\n",
    "plt.axis([0,2,0,15])\n",
    "plt.show()"
   ]
  },
  {
   "cell_type": "markdown",
   "metadata": {},
   "source": [
    "## Gradient Descent"
   ]
  },
  {
   "cell_type": "code",
   "execution_count": 112,
   "metadata": {},
   "outputs": [],
   "source": [
    "## Function to calculate the error\n",
    "def cal_cost (theta,X,y):\n",
    "    '''\n",
    "    theta: column-vector (n x 1) of proposed parameters for model\n",
    "    X    :  \n",
    "    y    :\n",
    "    '''     \n",
    "    # Number of observations in set\n",
    "    m = len(y)\n",
    "    # predicted y values\n",
    "    y_predict = X.dot(theta)\n",
    "    # Calculate Cost\n",
    "    cost = (1/(2*m))*np.sum(np.square(y_predict - y))\n",
    "    return cost"
   ]
  },
  {
   "cell_type": "code",
   "execution_count": 113,
   "metadata": {},
   "outputs": [],
   "source": [
    "## Function to apply gradient descent, \n",
    "def gradescent (theta , X , y , iterations = 100 , learning_rate = 0.01):\n",
    "    # Number of observations\n",
    "    m = len(y)\n",
    "    # Vector to store costs in\n",
    "    cost_history  = np.zeros(iterations)\n",
    "    # Vector to store thetas in\n",
    "    theta_history = np.zeros((iterations,2))    \n",
    "    # Do the actual work\n",
    "    for itx in range(iterations):\n",
    "        # Make Prediction with this iterations theta\n",
    "        y_predict = X.dot(theta)   # same as np.dot(X,theta)\n",
    "        # Calculate new Theta\n",
    "        theta = theta - learning_rate*(1/m)*((X.T).dot(y_predict - y))\n",
    "        # Calculate Cost of this iteration and save it in vector\n",
    "        cost_history[itx] = cal_cost(theta,X,y)\n",
    "        # Save Theta of this iteration in Vector\n",
    "        theta_history[itx,:] = theta.T\n",
    "    # Return results\n",
    "    return theta, cost_history, theta_history"
   ]
  },
  {
   "cell_type": "code",
   "execution_count": 135,
   "metadata": {
    "scrolled": false
   },
   "outputs": [],
   "source": [
    "# Create input Date for Gradiate Descent\n",
    "lr     = 0.01\n",
    "n_iter = 100\n",
    "theta  = np.random.randn(2,1)"
   ]
  },
  {
   "cell_type": "code",
   "execution_count": 136,
   "metadata": {},
   "outputs": [
    {
     "name": "stdout",
     "output_type": "stream",
     "text": [
      "\n",
      "Final Theta:\n",
      " [[3.68379499]\n",
      " [3.02347541]]\n",
      "\n",
      "Final Cost :\n",
      " 0.3563984910259546\n"
     ]
    }
   ],
   "source": [
    "theta, cost_history, theta_history = gradescent (theta = theta, \n",
    "                                                 X = X_b,\n",
    "                                                 y = y,\n",
    "                                                 iterations = n_iter,\n",
    "                                                 learning_rate = lr)\n",
    "print(\"\\nFinal Theta:\\n\",theta)\n",
    "print(\"\\nFinal Cost :\\n\",cost_history[-1])"
   ]
  },
  {
   "cell_type": "code",
   "execution_count": 137,
   "metadata": {},
   "outputs": [
    {
     "data": {
      "image/png": "[encoded data removed]",
      "text/plain": [
       "<Figure size 432x288 with 1 Axes>"
      ]
     },
     "metadata": {
      "needs_background": "light"
     },
     "output_type": "display_data"
    }
   ],
   "source": [
    "## Plotting Costhistory\n",
    "plt.plot(cost_history)\n",
    "plt.show()"
   ]
  },
  {
   "cell_type": "code",
   "execution_count": 144,
   "metadata": {},
   "outputs": [
    {
     "data": {
      "image/png": "[encoded data removed]",
      "text/plain": [
       "<Figure size 432x288 with 1 Axes>"
      ]
     },
     "metadata": {
      "needs_background": "light"
     },
     "output_type": "display_data"
    }
   ],
   "source": [
    "## Plotting Costhistory\n",
    "plt.plot(theta_history[:,0],'b.')\n",
    "plt.plot(theta_history[:,1],'r.')\n",
    "plt.show()"
   ]
  }
 ],
 "metadata": {
  "kernelspec": {
   "display_name": "Python [conda env:nf] *",
   "language": "python",
   "name": "conda-env-nf-py"
  },
  "language_info": {
   "codemirror_mode": {
    "name": "ipython",
    "version": 3
   },
   "file_extension": ".py",
   "mimetype": "text/x-python",
   "name": "python",
   "nbconvert_exporter": "python",
   "pygments_lexer": "ipython3",
   "version": "3.6.6"
  }
 },
 "nbformat": 4,
 "nbformat_minor": 2
}
